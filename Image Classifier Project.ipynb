{
 "cells": [
  {
   "cell_type": "markdown",
   "metadata": {},
   "source": [
    "# Developing an AI application\n",
    "\n",
    "Going forward, AI algorithms will be incorporated into more and more everyday applications. For example, you might want to include an image classifier in a smart phone app. To do this, you'd use a deep learning model trained on hundreds of thousands of images as part of the overall application architecture. A large part of software development in the future will be using these types of models as common parts of applications. \n",
    "\n",
    "In this project, we'll train an image classifier to recognize different species of flowers. You can imagine using something like this in a phone app that tells you the name of the flower your camera is looking at. In practice we would train this classifier, then export it for use in our application. We'll be using [this dataset](http://www.robots.ox.ac.uk/~vgg/data/flowers/102/index.html) of 102 flower categories, you can see a few examples below. \n",
    "\n",
    "<img src='assets/Flowers.png' width=500px>\n",
    "\n",
    "The project is broken down into multiple steps:\n",
    "\n",
    "* Load and preprocess the image dataset\n",
    "* Train the image classifier on your dataset\n",
    "* Use the trained classifier to predict image content\n",
    "\n",
    "We'll lead you through each part which you'll implement in Python.\n",
    "\n",
    "When you've completed this project, you'll have an application that can be trained on any set of labeled images. Here your network will be learning about flowers and end up as a command line application. But, what you do with your new skills depends on your imagination and effort in building a dataset. For example, imagine an app where you take a picture of a car, it tells you what the make and model is, then looks up information about it. Go build your own dataset and make something new.\n",
    "\n",
    "First up is importing the packages you'll need. It's good practice to keep all the imports at the beginning of your code. As you work through this notebook and find you need to import a package, make sure to add the import up here."
   ]
  },
  {
   "cell_type": "code",
   "execution_count": 1,
   "metadata": {
    "collapsed": true
   },
   "outputs": [],
   "source": [
    "# [START Configuration settings for matplotlib]\n",
    "\n",
    "%matplotlib inline\n",
    "%config InlineBackend.figure_format = 'retina'\n",
    "\n",
    "# [END Configuration settings for matplotlib]"
   ]
  },
  {
   "cell_type": "code",
   "execution_count": 2,
   "metadata": {
    "collapsed": true
   },
   "outputs": [],
   "source": [
    "# [Start Necessary Python Imports]\n",
    "import time\n",
    "import numpy as np\n",
    "# [End]\n",
    "\n",
    "# [START Importing Matplot lib for plotting]\n",
    "import matplotlib.pyplot as plt\n",
    "# [END]\n",
    "\n",
    "# [START Importing torch essentials]\n",
    "import torch\n",
    "from torch import nn, optim\n",
    "import torch.nn.functional as F\n",
    "from torch.autograd import Variable\n",
    "from torchvision import datasets, models, transforms\n",
    "# [END]"
   ]
  },
  {
   "cell_type": "markdown",
   "metadata": {},
   "source": [
    "## Load the data\n",
    "\n",
    "Here you'll use `torchvision` to load the data ([documentation](http://pytorch.org/docs/master/torchvision/transforms.html#)). The data should be included alongside this notebook, otherwise you can [download it here](https://s3.amazonaws.com/content.udacity-data.com/nd089/flower_data.tar.gz). The dataset is split into three parts, training, validation, and testing. For the training, you'll want to apply transformations such as random scaling, cropping, and flipping. This will help the network generalize leading to better performance. You'll also need to make sure the input data is resized to 224x224 pixels as required by the pre-trained networks.\n",
    "\n",
    "The validation and testing sets are used to measure the model's performance on data it hasn't seen yet. For this you don't want any scaling or rotation transformations, but you'll need to resize then crop the images to the appropriate size.\n",
    "\n",
    "For all three sets you'll need to normalize the means and standard deviations of the images to what the network expects. For the means, it's `[0.485, 0.456, 0.406]` and for the standard deviations `[0.229, 0.224, 0.225]`. This converts the values of each color channel to be between -1 and 1 instead of 0 and 1."
   ]
  },
  {
   "cell_type": "code",
   "execution_count": 3,
   "metadata": {
    "collapsed": true
   },
   "outputs": [],
   "source": [
    "train_dir = \"train\"\n",
    "valid_dir = \"valid\"\n",
    "test_dir = \"test\""
   ]
  },
  {
   "cell_type": "code",
   "execution_count": 5,
   "metadata": {
    "collapsed": true
   },
   "outputs": [],
   "source": [
    "# [ START Transforms for the training, validation, and testing sets]\n",
    "data_transforms = {\n",
    "    \"train\" : transforms.Compose([\n",
    "        transforms.RandomRotation(45),\n",
    "        transforms.RandomResizedCrop(224),\n",
    "        transforms.RandomHorizontalFlip(),\n",
    "        transforms.ToTensor(),\n",
    "        transforms.Normalize([0.485, 0.456, 0.406], [0.229, 0.224, 0.225])\n",
    "    ]),\n",
    "    'valid': transforms.Compose([\n",
    "        transforms.Resize(256),\n",
    "        transforms.CenterCrop(224),\n",
    "        transforms.ToTensor(),\n",
    "        transforms.Normalize([0.485, 0.456, 0.406], [0.229, 0.224, 0.225])\n",
    "    ]),\n",
    "    'test': transforms.Compose([\n",
    "        transforms.Resize(256),\n",
    "        transforms.CenterCrop(224),\n",
    "        transforms.ToTensor(),\n",
    "        transforms.Normalize([0.485, 0.456, 0.406], [0.229, 0.224, 0.225])\n",
    "        ])\n",
    "}\n",
    "# [END]\n",
    "\n",
    "# [START Load the datasets with ImageFolder]\n",
    "dirs = {\n",
    "    \"train\" : train_dir,\n",
    "    \"valid\" : valid_dir, \n",
    "    \"test\" : test_dir\n",
    "}\n",
    "\n",
    "image_datasets = {_ : datasets.ImageFolder(dirs[_], transform=data_transforms[_])\n",
    "                  for _ in ['train', 'valid', 'test']}\n",
    "# [END]\n",
    "\n",
    "# [START Using the image datasets and the trainforms to define the dataloaders]\n",
    "dataloaders = dataloaders = {_: torch.utils.data.DataLoader(image_datasets[_], batch_size=32, shuffle=True)\n",
    "               for _ in ['train', 'valid', 'test']}\n",
    "# [END]"
   ]
  },
  {
   "cell_type": "markdown",
   "metadata": {},
   "source": [
    "### Label mapping\n",
    "\n",
    "You'll also need to load in a mapping from label to category name. You can find this in the file `label_map.json`. It's a JSON object which you can read in with the [`json` module](https://docs.python.org/2/library/json.html). This will give you a dictionary mapping the integer coded labels to the actual names of the flowers."
   ]
  },
  {
   "cell_type": "code",
   "execution_count": 7,
   "metadata": {
    "collapsed": true
   },
   "outputs": [],
   "source": [
    "import json\n",
    "\n",
    "with open('label_map.json', 'r') as f:\n",
    "    label_map = json.load(f)"
   ]
  },
  {
   "cell_type": "markdown",
   "metadata": {},
   "source": [
    "# Building and training the classifier\n",
    "\n",
    "Now that the data is ready, it's time to build and train the classifier. As usual, you should use one of the pretrained models from `torchvision.models` to get the image features. Build and train a new feed-forward classifier using those features.\n",
    "\n",
    "We're going to leave this part up to you. If you want to talk through it with someone, chat with your fellow students! You can also ask questions on the forums or join the instructors in office hours.\n",
    "\n",
    "Refer to the rubric (TODO: Link to Rubric) for guidance on successfully completing this section. Things you'll need to do:\n",
    "\n",
    "* Load a [pre-trained network](http://pytorch.org/docs/master/torchvision/models.html) (If you need a starting point, the VGG networks work great and are straightforward to use)\n",
    "* Define a new, untrained feed-forward network as a classifier, using ReLU activations and dropout\n",
    "* Train the classifier layers using backpropagation using the pre-trained network to get the features\n",
    "* Track the loss and accuracy on the validation set to determine the best hyperparameters\n",
    "\n",
    "We've left a cell open for you below, but use as many as you need. Our advice is to break the problem up into smaller parts you can run separately. Check that each part is doing what you expect, then move on to the next. You'll likely find that as you work through each part, you'll need to go back and modify your previous code. This is totally normal!\n",
    "\n",
    "When training make sure you're updating only the weights of the feed-forward network. You should be able to get the validation accuracy above 70% if you build everything right. Make sure to try different hyperparameters (learning rate, units in the classifier, epochs, etc) to find the best model. Save those hyperparameters to use as default values in the next part of the project."
   ]
  },
  {
   "cell_type": "code",
   "execution_count": 10,
   "metadata": {
    "collapsed": true
   },
   "outputs": [],
   "source": [
    "# [START Defining the top classifier layer for the model]\n",
    "class FFClassifier(nn.Module):\n",
    "    \n",
    "    def __init__(self, in_features, hidden_features, out_features, drop_prob=0.5):\n",
    "        super().__init__()\n",
    "        \n",
    "        self.fc1 = nn.Linear(in_features, hidden_features)\n",
    "        self.fc2 = nn.Linear(hidden_features, hidden_features)\n",
    "        self.fc3 = nn.Linear(hidden_features, out_features)\n",
    "        \n",
    "        self.drop = nn.Dropout(p=drop_prob)\n",
    "        \n",
    "    def forward(self, x):\n",
    "        x = self.drop(F.relu(self.fc1(x)))\n",
    "        x = self.drop(F.relu(self.fc2(x)))\n",
    "        x = self.fc3(x)\n",
    "        \n",
    "        x = F.log_softmax(x, dim=1)\n",
    "        return x\n",
    "# [END]"
   ]
  },
  {
   "cell_type": "code",
   "execution_count": 11,
   "metadata": {
    "collapsed": true
   },
   "outputs": [],
   "source": [
    "# [START Defining the pretrained model to use]\n",
    "model = models.vgg16(pretrained=True)\n",
    "for param in model.parameters():\n",
    "    param.requires_grad = False\n",
    "# [END]"
   ]
  },
  {
   "cell_type": "code",
   "execution_count": 12,
   "metadata": {},
   "outputs": [
    {
     "data": {
      "text/plain": [
       "VGG(\n",
       "  (features): Sequential(\n",
       "    (0): Conv2d (3, 64, kernel_size=(3, 3), stride=(1, 1), padding=(1, 1))\n",
       "    (1): ReLU(inplace)\n",
       "    (2): Conv2d (64, 64, kernel_size=(3, 3), stride=(1, 1), padding=(1, 1))\n",
       "    (3): ReLU(inplace)\n",
       "    (4): MaxPool2d(kernel_size=(2, 2), stride=(2, 2), dilation=(1, 1))\n",
       "    (5): Conv2d (64, 128, kernel_size=(3, 3), stride=(1, 1), padding=(1, 1))\n",
       "    (6): ReLU(inplace)\n",
       "    (7): Conv2d (128, 128, kernel_size=(3, 3), stride=(1, 1), padding=(1, 1))\n",
       "    (8): ReLU(inplace)\n",
       "    (9): MaxPool2d(kernel_size=(2, 2), stride=(2, 2), dilation=(1, 1))\n",
       "    (10): Conv2d (128, 256, kernel_size=(3, 3), stride=(1, 1), padding=(1, 1))\n",
       "    (11): ReLU(inplace)\n",
       "    (12): Conv2d (256, 256, kernel_size=(3, 3), stride=(1, 1), padding=(1, 1))\n",
       "    (13): ReLU(inplace)\n",
       "    (14): Conv2d (256, 256, kernel_size=(3, 3), stride=(1, 1), padding=(1, 1))\n",
       "    (15): ReLU(inplace)\n",
       "    (16): MaxPool2d(kernel_size=(2, 2), stride=(2, 2), dilation=(1, 1))\n",
       "    (17): Conv2d (256, 512, kernel_size=(3, 3), stride=(1, 1), padding=(1, 1))\n",
       "    (18): ReLU(inplace)\n",
       "    (19): Conv2d (512, 512, kernel_size=(3, 3), stride=(1, 1), padding=(1, 1))\n",
       "    (20): ReLU(inplace)\n",
       "    (21): Conv2d (512, 512, kernel_size=(3, 3), stride=(1, 1), padding=(1, 1))\n",
       "    (22): ReLU(inplace)\n",
       "    (23): MaxPool2d(kernel_size=(2, 2), stride=(2, 2), dilation=(1, 1))\n",
       "    (24): Conv2d (512, 512, kernel_size=(3, 3), stride=(1, 1), padding=(1, 1))\n",
       "    (25): ReLU(inplace)\n",
       "    (26): Conv2d (512, 512, kernel_size=(3, 3), stride=(1, 1), padding=(1, 1))\n",
       "    (27): ReLU(inplace)\n",
       "    (28): Conv2d (512, 512, kernel_size=(3, 3), stride=(1, 1), padding=(1, 1))\n",
       "    (29): ReLU(inplace)\n",
       "    (30): MaxPool2d(kernel_size=(2, 2), stride=(2, 2), dilation=(1, 1))\n",
       "  )\n",
       "  (classifier): Sequential(\n",
       "    (0): Linear(in_features=25088, out_features=4096)\n",
       "    (1): ReLU(inplace)\n",
       "    (2): Dropout(p=0.5)\n",
       "    (3): Linear(in_features=4096, out_features=4096)\n",
       "    (4): ReLU(inplace)\n",
       "    (5): Dropout(p=0.5)\n",
       "    (6): Linear(in_features=4096, out_features=1000)\n",
       "  )\n",
       ")"
      ]
     },
     "execution_count": 12,
     "metadata": {},
     "output_type": "execute_result"
    }
   ],
   "source": [
    "model"
   ]
  },
  {
   "cell_type": "code",
   "execution_count": 16,
   "metadata": {
    "collapsed": true
   },
   "outputs": [],
   "source": [
    "# [START Initializing new classifier object]\n",
    "classifier_custom = FFClassifier(25088, 4096, len(label_map))\n",
    "# [END]"
   ]
  },
  {
   "cell_type": "code",
   "execution_count": 17,
   "metadata": {
    "collapsed": true
   },
   "outputs": [],
   "source": [
    "# [START Putting the new classifier on top of the pretrained model]\n",
    "model.classifier = classifier_custom\n",
    "# [END]"
   ]
  },
  {
   "cell_type": "code",
   "execution_count": 19,
   "metadata": {
    "collapsed": true
   },
   "outputs": [],
   "source": [
    "# [START defining the loss function and optimizer to use]\n",
    "criterion = nn.NLLLoss()\n",
    "optimizer = optim.Adam(model.classifier.parameters(), lr=0.001)\n",
    "# [END]"
   ]
  },
  {
   "cell_type": "code",
   "execution_count": 20,
   "metadata": {
    "collapsed": true
   },
   "outputs": [],
   "source": [
    "# [START Defining a validation function for the model]\n",
    "def validation(model, val_data, criterion, cuda=False):\n",
    "    val_start = time.time()\n",
    "    running_val_loss = 0\n",
    "    accuracy = 0\n",
    "    for inputs, labels in val_data:\n",
    "        inputs, labels = Variable(inputs), Variable(labels)\n",
    "        \n",
    "        if cuda:\n",
    "            inputs, labels = inputs.cuda(), labels.cuda()\n",
    "\n",
    "        outputs = model.forward(inputs)\n",
    "        val_loss = criterion(outputs, labels)\n",
    "\n",
    "        ps = torch.exp(outputs.data)\n",
    "        \n",
    "        _, predicted = ps.max(dim=1)\n",
    "        \n",
    "        equals = predicted == labels.data\n",
    "        accuracy += torch.sum(equals)/len(equals)\n",
    "\n",
    "        running_val_loss += val_loss.data[0]\n",
    "    val_time = time.time() - val_start\n",
    "    print(\"Valid loss: {:.3f}\".format(running_val_loss/len(dataloaders['valid'])),\n",
    "          \"Accuracy: {:.3f}\".format(accuracy/len(dataloaders['valid'])),\n",
    "          \"Val time: {:.3f} s/batch\".format(val_time/len(dataloaders['valid'])))\n",
    "# [END]"
   ]
  },
  {
   "cell_type": "code",
   "execution_count": 21,
   "metadata": {},
   "outputs": [
    {
     "data": {
      "text/plain": [
       "True"
      ]
     },
     "execution_count": 21,
     "metadata": {},
     "output_type": "execute_result"
    }
   ],
   "source": [
    "torch.cuda.is_available()"
   ]
  },
  {
   "cell_type": "markdown",
   "metadata": {},
   "source": [
    "## Begining the training process"
   ]
  },
  {
   "cell_type": "code",
   "execution_count": 28,
   "metadata": {},
   "outputs": [
    {
     "name": "stdout",
     "output_type": "stream",
     "text": [
      "True\n"
     ]
    }
   ],
   "source": [
    "# [START Setting parameters]\n",
    "epochs = 10\n",
    "cuda_availability = torch.cuda.is_available()\n",
    "print(cuda_availability)\n",
    "print_every_n = 20\n",
    "# [END]"
   ]
  },
  {
   "cell_type": "code",
   "execution_count": 23,
   "metadata": {
    "collapsed": true
   },
   "outputs": [],
   "source": [
    "# [START Checking if cuda is available]\n",
    "if cuda_availability:\n",
    "    model.cuda()\n",
    "else:\n",
    "    model.cpu()\n",
    "# [END]"
   ]
  },
  {
   "cell_type": "code",
   "execution_count": 24,
   "metadata": {},
   "outputs": [
    {
     "data": {
      "text/plain": [
       "VGG(\n",
       "  (features): Sequential(\n",
       "    (0): Conv2d (3, 64, kernel_size=(3, 3), stride=(1, 1), padding=(1, 1))\n",
       "    (1): ReLU(inplace)\n",
       "    (2): Conv2d (64, 64, kernel_size=(3, 3), stride=(1, 1), padding=(1, 1))\n",
       "    (3): ReLU(inplace)\n",
       "    (4): MaxPool2d(kernel_size=(2, 2), stride=(2, 2), dilation=(1, 1))\n",
       "    (5): Conv2d (64, 128, kernel_size=(3, 3), stride=(1, 1), padding=(1, 1))\n",
       "    (6): ReLU(inplace)\n",
       "    (7): Conv2d (128, 128, kernel_size=(3, 3), stride=(1, 1), padding=(1, 1))\n",
       "    (8): ReLU(inplace)\n",
       "    (9): MaxPool2d(kernel_size=(2, 2), stride=(2, 2), dilation=(1, 1))\n",
       "    (10): Conv2d (128, 256, kernel_size=(3, 3), stride=(1, 1), padding=(1, 1))\n",
       "    (11): ReLU(inplace)\n",
       "    (12): Conv2d (256, 256, kernel_size=(3, 3), stride=(1, 1), padding=(1, 1))\n",
       "    (13): ReLU(inplace)\n",
       "    (14): Conv2d (256, 256, kernel_size=(3, 3), stride=(1, 1), padding=(1, 1))\n",
       "    (15): ReLU(inplace)\n",
       "    (16): MaxPool2d(kernel_size=(2, 2), stride=(2, 2), dilation=(1, 1))\n",
       "    (17): Conv2d (256, 512, kernel_size=(3, 3), stride=(1, 1), padding=(1, 1))\n",
       "    (18): ReLU(inplace)\n",
       "    (19): Conv2d (512, 512, kernel_size=(3, 3), stride=(1, 1), padding=(1, 1))\n",
       "    (20): ReLU(inplace)\n",
       "    (21): Conv2d (512, 512, kernel_size=(3, 3), stride=(1, 1), padding=(1, 1))\n",
       "    (22): ReLU(inplace)\n",
       "    (23): MaxPool2d(kernel_size=(2, 2), stride=(2, 2), dilation=(1, 1))\n",
       "    (24): Conv2d (512, 512, kernel_size=(3, 3), stride=(1, 1), padding=(1, 1))\n",
       "    (25): ReLU(inplace)\n",
       "    (26): Conv2d (512, 512, kernel_size=(3, 3), stride=(1, 1), padding=(1, 1))\n",
       "    (27): ReLU(inplace)\n",
       "    (28): Conv2d (512, 512, kernel_size=(3, 3), stride=(1, 1), padding=(1, 1))\n",
       "    (29): ReLU(inplace)\n",
       "    (30): MaxPool2d(kernel_size=(2, 2), stride=(2, 2), dilation=(1, 1))\n",
       "  )\n",
       "  (classifier): FFClassifier(\n",
       "    (fc1): Linear(in_features=25088, out_features=4096)\n",
       "    (fc2): Linear(in_features=4096, out_features=4096)\n",
       "    (fc3): Linear(in_features=4096, out_features=102)\n",
       "    (drop): Dropout(p=0.5)\n",
       "  )\n",
       ")"
      ]
     },
     "execution_count": 24,
     "metadata": {},
     "output_type": "execute_result"
    }
   ],
   "source": [
    "# [START Setting the module into training mode(for dropout)]\n",
    "model.train()\n",
    "# [END]"
   ]
  },
  {
   "cell_type": "code",
   "execution_count": 29,
   "metadata": {},
   "outputs": [
    {
     "name": "stdout",
     "output_type": "stream",
     "text": [
      "Epoch 1/10\n",
      "Step: 20\n",
      "Training loss 3.075\n",
      "Valid loss: 2.462 Accuracy: 0.432 Val time: 0.609 s/batch\n",
      "Step: 40\n",
      "Training loss 3.139\n",
      "Valid loss: 2.244 Accuracy: 0.454 Val time: 0.625 s/batch\n",
      "Step: 60\n",
      "Training loss 3.149\n",
      "Valid loss: 2.301 Accuracy: 0.406 Val time: 0.612 s/batch\n",
      "Step: 80\n",
      "Training loss 3.179\n",
      "Valid loss: 2.231 Accuracy: 0.438 Val time: 0.605 s/batch\n",
      "Step: 100\n",
      "Training loss 3.182\n",
      "Valid loss: 1.990 Accuracy: 0.500 Val time: 0.606 s/batch\n",
      "Step: 120\n",
      "Training loss 3.188\n",
      "Valid loss: 2.092 Accuracy: 0.484 Val time: 0.611 s/batch\n",
      "Step: 140\n",
      "Training loss 3.152\n",
      "Valid loss: 1.791 Accuracy: 0.529 Val time: 0.608 s/batch\n",
      "Step: 160\n",
      "Training loss 3.157\n",
      "Valid loss: 1.757 Accuracy: 0.556 Val time: 0.611 s/batch\n",
      "Step: 180\n",
      "Training loss 3.154\n",
      "Valid loss: 1.889 Accuracy: 0.543 Val time: 0.616 s/batch\n",
      "Step: 200\n",
      "Training loss 3.153\n",
      "Valid loss: 1.927 Accuracy: 0.521 Val time: 0.623 s/batch\n",
      "Valid loss: 1.791 Accuracy: 0.536 Val time: 0.614 s/batch\n",
      "Epoch 2/10\n",
      "Step: 20\n",
      "Training loss 2.058\n",
      "Valid loss: 1.496 Accuracy: 0.602 Val time: 0.638 s/batch\n",
      "Step: 40\n",
      "Training loss 2.623\n",
      "Valid loss: 1.699 Accuracy: 0.543 Val time: 0.635 s/batch\n",
      "Step: 60\n",
      "Training loss 2.743\n",
      "Valid loss: 1.674 Accuracy: 0.569 Val time: 0.621 s/batch\n",
      "Step: 80\n",
      "Training loss 2.813\n",
      "Valid loss: 1.663 Accuracy: 0.569 Val time: 0.620 s/batch\n",
      "Step: 100\n",
      "Training loss 2.886\n",
      "Valid loss: 1.625 Accuracy: 0.582 Val time: 0.616 s/batch\n",
      "Step: 120\n",
      "Training loss 2.913\n",
      "Valid loss: 1.584 Accuracy: 0.570 Val time: 0.616 s/batch\n",
      "Step: 140\n",
      "Training loss 2.962\n",
      "Valid loss: 1.631 Accuracy: 0.570 Val time: 0.613 s/batch\n",
      "Step: 160\n",
      "Training loss 2.992\n",
      "Valid loss: 1.613 Accuracy: 0.586 Val time: 0.625 s/batch\n",
      "Step: 180\n",
      "Training loss 3.008\n",
      "Valid loss: 1.573 Accuracy: 0.589 Val time: 0.620 s/batch\n",
      "Step: 200\n",
      "Training loss 3.004\n",
      "Valid loss: 1.591 Accuracy: 0.614 Val time: 0.627 s/batch\n",
      "Valid loss: 1.550 Accuracy: 0.613 Val time: 0.625 s/batch\n",
      "Epoch 3/10\n",
      "Step: 20\n",
      "Training loss 1.829\n",
      "Valid loss: 1.314 Accuracy: 0.636 Val time: 0.621 s/batch\n",
      "Step: 40\n",
      "Training loss 2.444\n",
      "Valid loss: 1.451 Accuracy: 0.644 Val time: 0.616 s/batch\n",
      "Step: 60\n",
      "Training loss 2.665\n",
      "Valid loss: 1.463 Accuracy: 0.629 Val time: 0.618 s/batch\n",
      "Step: 80\n",
      "Training loss 2.760\n",
      "Valid loss: 1.534 Accuracy: 0.615 Val time: 0.617 s/batch\n",
      "Step: 100\n",
      "Training loss 2.861\n",
      "Valid loss: 1.577 Accuracy: 0.608 Val time: 0.631 s/batch\n",
      "Step: 120\n",
      "Training loss 2.887\n",
      "Valid loss: 1.546 Accuracy: 0.606 Val time: 0.626 s/batch\n",
      "Step: 140\n",
      "Training loss 2.898\n",
      "Valid loss: 1.532 Accuracy: 0.621 Val time: 0.617 s/batch\n",
      "Step: 160\n",
      "Training loss 2.904\n",
      "Valid loss: 1.586 Accuracy: 0.608 Val time: 0.622 s/batch\n",
      "Step: 180\n",
      "Training loss 2.902\n",
      "Valid loss: 1.600 Accuracy: 0.594 Val time: 0.620 s/batch\n",
      "Step: 200\n",
      "Training loss 2.921\n",
      "Valid loss: 1.523 Accuracy: 0.647 Val time: 0.641 s/batch\n",
      "Valid loss: 1.516 Accuracy: 0.624 Val time: 0.630 s/batch\n",
      "Epoch 4/10\n",
      "Step: 20\n",
      "Training loss 1.694\n",
      "Valid loss: 1.205 Accuracy: 0.703 Val time: 0.620 s/batch\n",
      "Step: 40\n",
      "Training loss 2.307\n",
      "Valid loss: 1.466 Accuracy: 0.627 Val time: 0.642 s/batch\n",
      "Step: 60\n",
      "Training loss 2.566\n",
      "Valid loss: 1.541 Accuracy: 0.622 Val time: 0.656 s/batch\n",
      "Step: 80\n",
      "Training loss 2.719\n",
      "Valid loss: 1.492 Accuracy: 0.635 Val time: 0.620 s/batch\n",
      "Step: 100\n",
      "Training loss 2.744\n",
      "Valid loss: 1.597 Accuracy: 0.626 Val time: 0.628 s/batch\n",
      "Step: 120\n",
      "Training loss 2.770\n",
      "Valid loss: 1.436 Accuracy: 0.667 Val time: 0.620 s/batch\n",
      "Step: 140\n",
      "Training loss 2.802\n",
      "Valid loss: 1.465 Accuracy: 0.647 Val time: 0.622 s/batch\n",
      "Step: 160\n",
      "Training loss 2.822\n",
      "Valid loss: 1.488 Accuracy: 0.640 Val time: 0.615 s/batch\n",
      "Step: 180\n",
      "Training loss 2.817\n",
      "Valid loss: 1.543 Accuracy: 0.635 Val time: 0.636 s/batch\n",
      "Step: 200\n",
      "Training loss 2.817\n",
      "Valid loss: 1.384 Accuracy: 0.663 Val time: 0.644 s/batch\n",
      "Valid loss: 1.382 Accuracy: 0.650 Val time: 0.624 s/batch\n",
      "Epoch 5/10\n",
      "Step: 20\n",
      "Training loss 1.673\n",
      "Valid loss: 1.197 Accuracy: 0.675 Val time: 0.625 s/batch\n",
      "Step: 40\n",
      "Training loss 2.300\n",
      "Valid loss: 1.311 Accuracy: 0.680 Val time: 0.626 s/batch\n",
      "Step: 60\n",
      "Training loss 2.506\n",
      "Valid loss: 1.290 Accuracy: 0.679 Val time: 0.627 s/batch\n",
      "Step: 80\n",
      "Training loss 2.647\n",
      "Valid loss: 1.432 Accuracy: 0.662 Val time: 0.621 s/batch\n",
      "Step: 100\n",
      "Training loss 2.708\n",
      "Valid loss: 1.502 Accuracy: 0.671 Val time: 0.620 s/batch\n",
      "Step: 120\n",
      "Training loss 2.730\n",
      "Valid loss: 1.329 Accuracy: 0.677 Val time: 0.622 s/batch\n",
      "Step: 140\n",
      "Training loss 2.768\n",
      "Valid loss: 1.382 Accuracy: 0.691 Val time: 0.617 s/batch\n",
      "Step: 160\n",
      "Training loss 2.760\n",
      "Valid loss: 1.480 Accuracy: 0.661 Val time: 0.632 s/batch\n",
      "Step: 180\n",
      "Training loss 2.770\n",
      "Valid loss: 1.357 Accuracy: 0.683 Val time: 0.621 s/batch\n",
      "Step: 200\n",
      "Training loss 2.788\n",
      "Valid loss: 1.402 Accuracy: 0.689 Val time: 0.614 s/batch\n",
      "Valid loss: 1.385 Accuracy: 0.680 Val time: 0.617 s/batch\n",
      "Epoch 6/10\n",
      "Step: 20\n",
      "Training loss 1.542\n",
      "Valid loss: 1.082 Accuracy: 0.717 Val time: 0.624 s/batch\n",
      "Step: 40\n",
      "Training loss 2.217\n",
      "Valid loss: 1.303 Accuracy: 0.691 Val time: 0.621 s/batch\n",
      "Step: 60\n",
      "Training loss 2.398\n",
      "Valid loss: 1.232 Accuracy: 0.709 Val time: 0.623 s/batch\n",
      "Step: 80\n",
      "Training loss 2.484\n",
      "Valid loss: 1.458 Accuracy: 0.690 Val time: 0.619 s/batch\n",
      "Step: 100\n",
      "Training loss 2.552\n",
      "Valid loss: 1.275 Accuracy: 0.694 Val time: 0.625 s/batch\n",
      "Step: 120\n",
      "Training loss 2.606\n",
      "Valid loss: 1.310 Accuracy: 0.717 Val time: 0.620 s/batch\n",
      "Step: 140\n",
      "Training loss 2.618\n",
      "Valid loss: 1.378 Accuracy: 0.713 Val time: 0.620 s/batch\n",
      "Step: 160\n",
      "Training loss 2.622\n",
      "Valid loss: 1.335 Accuracy: 0.707 Val time: 0.625 s/batch\n",
      "Step: 180\n",
      "Training loss 2.610\n",
      "Valid loss: 1.344 Accuracy: 0.707 Val time: 0.620 s/batch\n",
      "Step: 200\n",
      "Training loss 2.614\n",
      "Valid loss: 1.376 Accuracy: 0.708 Val time: 0.619 s/batch\n",
      "Valid loss: 1.425 Accuracy: 0.698 Val time: 0.623 s/batch\n",
      "Epoch 7/10\n",
      "Step: 20\n",
      "Training loss 1.536\n",
      "Valid loss: 1.063 Accuracy: 0.726 Val time: 0.621 s/batch\n",
      "Step: 40\n",
      "Training loss 2.207\n",
      "Valid loss: 1.159 Accuracy: 0.718 Val time: 0.618 s/batch\n",
      "Step: 60\n",
      "Training loss 2.357\n",
      "Valid loss: 1.427 Accuracy: 0.673 Val time: 0.652 s/batch\n",
      "Step: 80\n",
      "Training loss 2.451\n",
      "Valid loss: 1.339 Accuracy: 0.712 Val time: 0.626 s/batch\n",
      "Step: 100\n",
      "Training loss 2.474\n",
      "Valid loss: 1.264 Accuracy: 0.743 Val time: 0.620 s/batch\n",
      "Step: 120\n",
      "Training loss 2.507\n",
      "Valid loss: 1.225 Accuracy: 0.744 Val time: 0.626 s/batch\n",
      "Step: 140\n",
      "Training loss 2.519\n",
      "Valid loss: 1.335 Accuracy: 0.713 Val time: 0.621 s/batch\n",
      "Step: 160\n",
      "Training loss 2.514\n",
      "Valid loss: 1.243 Accuracy: 0.704 Val time: 0.629 s/batch\n",
      "Step: 180\n",
      "Training loss 2.506\n",
      "Valid loss: 1.289 Accuracy: 0.727 Val time: 0.619 s/batch\n",
      "Step: 200\n",
      "Training loss 2.503\n",
      "Valid loss: 1.221 Accuracy: 0.731 Val time: 0.622 s/batch\n",
      "Valid loss: 1.227 Accuracy: 0.727 Val time: 0.631 s/batch\n",
      "Epoch 8/10\n",
      "Step: 20\n",
      "Training loss 1.504\n",
      "Valid loss: 0.992 Accuracy: 0.746 Val time: 0.628 s/batch\n",
      "Step: 40\n",
      "Training loss 2.328\n",
      "Valid loss: 1.260 Accuracy: 0.706 Val time: 0.628 s/batch\n",
      "Step: 60\n",
      "Training loss 2.486\n",
      "Valid loss: 1.416 Accuracy: 0.696 Val time: 0.641 s/batch\n",
      "Step: 80\n",
      "Training loss 2.511\n",
      "Valid loss: 1.337 Accuracy: 0.722 Val time: 0.618 s/batch\n",
      "Step: 100\n",
      "Training loss 2.577\n",
      "Valid loss: 1.441 Accuracy: 0.699 Val time: 0.618 s/batch\n",
      "Step: 120\n",
      "Training loss 2.622\n",
      "Valid loss: 1.573 Accuracy: 0.693 Val time: 0.618 s/batch\n",
      "Step: 140\n",
      "Training loss 2.634\n",
      "Valid loss: 1.462 Accuracy: 0.683 Val time: 0.629 s/batch\n",
      "Step: 160\n",
      "Training loss 2.611\n",
      "Valid loss: 1.395 Accuracy: 0.704 Val time: 0.614 s/batch\n",
      "Step: 180\n",
      "Training loss 2.620\n",
      "Valid loss: 1.295 Accuracy: 0.710 Val time: 0.633 s/batch\n",
      "Step: 200\n",
      "Training loss 2.617\n",
      "Valid loss: 1.281 Accuracy: 0.714 Val time: 0.626 s/batch\n",
      "Valid loss: 1.287 Accuracy: 0.717 Val time: 0.619 s/batch\n",
      "Epoch 9/10\n",
      "Step: 20\n",
      "Training loss 1.598\n",
      "Valid loss: 0.969 Accuracy: 0.752 Val time: 0.620 s/batch\n",
      "Step: 40\n",
      "Training loss 2.165\n",
      "Valid loss: 1.111 Accuracy: 0.739 Val time: 0.622 s/batch\n",
      "Step: 60\n",
      "Training loss 2.310\n",
      "Valid loss: 1.299 Accuracy: 0.719 Val time: 0.621 s/batch\n",
      "Step: 80\n",
      "Training loss 2.443\n",
      "Valid loss: 1.401 Accuracy: 0.698 Val time: 0.623 s/batch\n",
      "Step: 100\n",
      "Training loss 2.496\n",
      "Valid loss: 1.356 Accuracy: 0.709 Val time: 0.614 s/batch\n",
      "Step: 120\n",
      "Training loss 2.527\n",
      "Valid loss: 1.308 Accuracy: 0.718 Val time: 0.623 s/batch\n",
      "Step: 140\n",
      "Training loss 2.541\n",
      "Valid loss: 1.378 Accuracy: 0.704 Val time: 0.628 s/batch\n",
      "Step: 160\n",
      "Training loss 2.550\n"
     ]
    },
    {
     "name": "stdout",
     "output_type": "stream",
     "text": [
      "Valid loss: 1.325 Accuracy: 0.724 Val time: 0.625 s/batch\n",
      "Step: 180\n",
      "Training loss 2.526\n",
      "Valid loss: 1.314 Accuracy: 0.724 Val time: 0.645 s/batch\n",
      "Step: 200\n",
      "Training loss 2.515\n",
      "Valid loss: 1.281 Accuracy: 0.726 Val time: 0.630 s/batch\n",
      "Valid loss: 1.258 Accuracy: 0.733 Val time: 0.644 s/batch\n",
      "Epoch 10/10\n",
      "Step: 20\n",
      "Training loss 1.347\n",
      "Valid loss: 0.963 Accuracy: 0.757 Val time: 0.627 s/batch\n",
      "Step: 40\n",
      "Training loss 2.150\n",
      "Valid loss: 1.267 Accuracy: 0.722 Val time: 0.626 s/batch\n",
      "Step: 60\n",
      "Training loss 2.362\n",
      "Valid loss: 1.326 Accuracy: 0.716 Val time: 0.627 s/batch\n",
      "Step: 80\n",
      "Training loss 2.451\n",
      "Valid loss: 1.455 Accuracy: 0.726 Val time: 0.624 s/batch\n",
      "Step: 100\n",
      "Training loss 2.483\n",
      "Valid loss: 1.402 Accuracy: 0.711 Val time: 0.623 s/batch\n",
      "Step: 120\n",
      "Training loss 2.493\n",
      "Valid loss: 1.153 Accuracy: 0.749 Val time: 0.625 s/batch\n",
      "Step: 140\n",
      "Training loss 2.511\n",
      "Valid loss: 1.285 Accuracy: 0.744 Val time: 0.620 s/batch\n",
      "Step: 160\n",
      "Training loss 2.506\n",
      "Valid loss: 1.154 Accuracy: 0.761 Val time: 0.627 s/batch\n",
      "Step: 180\n",
      "Training loss 2.501\n",
      "Valid loss: 1.284 Accuracy: 0.727 Val time: 0.626 s/batch\n",
      "Step: 200\n",
      "Training loss 2.502\n",
      "Valid loss: 1.271 Accuracy: 0.739 Val time: 0.625 s/batch\n",
      "Valid loss: 1.274 Accuracy: 0.710 Val time: 0.622 s/batch\n"
     ]
    }
   ],
   "source": [
    "for e in range(epochs):\n",
    "    print(f\"Epoch {e+1}/{epochs}\")\n",
    "    counter = 0\n",
    "    running_loss = 0\n",
    "    for inputs, labels in dataloaders['train']:\n",
    "        counter += 1\n",
    "        \n",
    "        # Training pass\n",
    "        inputs, labels = Variable(inputs), Variable(labels)\n",
    "        \n",
    "        \n",
    "        \n",
    "        optimizer.zero_grad()\n",
    "\n",
    "        outputs = model.forward(inputs)\n",
    "        loss = criterion(outputs, labels)\n",
    "        loss.backward()\n",
    "        optimizer.step()\n",
    "        running_loss += loss.data[0]\n",
    "        \n",
    "        if counter % print_every_n == 0:\n",
    "            print(f\"Step: {counter}\")\n",
    "            print(f\"Training loss {running_loss/counter:.3f}\")\n",
    "            model.eval()\n",
    "            validation(model, dataloaders['valid'], criterion, cuda=cuda_availability)\n",
    "            model.train()\n",
    "    else:\n",
    "        # Validation pass\n",
    "        train_end = time.time()\n",
    "        model.eval()\n",
    "        validation(model, dataloaders['valid'], criterion, cuda=cuda_availability)"
   ]
  },
  {
   "cell_type": "markdown",
   "metadata": {},
   "source": [
    "## Testing your network\n",
    "\n",
    "It's good practice to test your trained network on test data, images the network has never seen either in training or validation. This will give you a good estimate for the model's performance on completely new images. Run the test images through the network and measure the accuracy, the same way you did validation. You should be able to reach around 70% accuracy on the test set if the model has been trained well."
   ]
  },
  {
   "cell_type": "code",
   "execution_count": 30,
   "metadata": {},
   "outputs": [
    {
     "name": "stdout",
     "output_type": "stream",
     "text": [
      "Valid loss: 1.407 Accuracy: 0.705 Val time: 0.682 s/batch\n"
     ]
    }
   ],
   "source": [
    "# [START Validating model on the test set.]\n",
    "model.cuda()\n",
    "model.eval()\n",
    "validation(model, dataloaders['test'], criterion, cuda=True)\n",
    "# [END]"
   ]
  },
  {
   "cell_type": "markdown",
   "metadata": {},
   "source": [
    "## Save the checkpoint\n",
    "\n",
    "Now that your network is trained, save the model so you can load it later for making predictions. You probably want to save other things such as the mapping of classes to indices which you get from one of the image datasets: `image_datasets['train'].class_to_idx`. You can attach this to the model as an attribute which makes inference easier later on.\n",
    "\n",
    "```model.class_to_idx = image_datasets['train'].class_to_idx```\n",
    "\n",
    "Remember that you'll want to completely rebuild the model later so you can use it for inference. Make sure to include any information you need in the checkpoint. If you want to load the model and keep training, you'll want to save the number of epochs as well as the optimizer state, `optimizer.state_dict`. You'll likely want to use this trained model in the next part of the project, so best to save it now."
   ]
  },
  {
   "cell_type": "code",
   "execution_count": 31,
   "metadata": {
    "collapsed": true
   },
   "outputs": [],
   "source": [
    "# [START Saving checkpoint]\n",
    "model.class_to_idx = image_datasets['train'].class_to_idx\n",
    "model.cpu()\n",
    "torch.save({'arch': 'vgg16',\n",
    "            'hidden': 4096,\n",
    "            'state_dict': model.state_dict(),\n",
    "            'class_to_idx': model.class_to_idx}, \n",
    "            'classifier.pt')\n",
    "# [END]"
   ]
  },
  {
   "cell_type": "markdown",
   "metadata": {},
   "source": [
    "## Loading the checkpoint\n",
    "\n",
    "At this point it's good to write a function that can load a checkpoint and rebuild the model. That way you can come back to this project and keep working on it without having to retrain the network."
   ]
  },
  {
   "cell_type": "code",
   "execution_count": 32,
   "metadata": {
    "collapsed": true
   },
   "outputs": [],
   "source": [
    "# [START Write a function that loads a checkpoint and rebuilds the model]\n",
    "def load_checkpoint(checkpoint_path):\n",
    "    checkpoint = torch.load(checkpoint_path)\n",
    "    \n",
    "    if checkpoint['arch'] == 'vgg16':\n",
    "        model = models.vgg16(pretrained=True)\n",
    "        for param in model.parameters():\n",
    "            param.requires_grad = False\n",
    "    \n",
    "    model.class_to_idx = checkpoint['class_to_idx']\n",
    "    \n",
    "    # Create the classifier\n",
    "    net = FFClassifier(25088, checkpoint['hidden'], len(model.class_to_idx))\n",
    "\n",
    "    # Put the classifier on the pretrained network\n",
    "    model.classifier = net\n",
    "    \n",
    "    model.load_state_dict(checkpoint['state_dict'])\n",
    "    \n",
    "    return model\n",
    "# [END]"
   ]
  },
  {
   "cell_type": "code",
   "execution_count": null,
   "metadata": {
    "collapsed": true
   },
   "outputs": [],
   "source": [
    "# [START loading model from checkpoint]\n",
    "model = load_checkpoint('classifier.pt')"
   ]
  },
  {
   "cell_type": "markdown",
   "metadata": {},
   "source": [
    "# Inference for classification\n",
    "\n",
    "Now you'll write a function to use a trained network for inference. That is, you'll pass an image into the network and predict the class of the flower in the image. Write a function called `predict` that takes an image and a model, then returns the top $K$ most likely classes along with the probabilities. It should look like \n",
    "\n",
    "```python\n",
    "probs, classes = predict(image_path, model)\n",
    "print(probs)\n",
    "print(classes)\n",
    "> [ 0.01558163  0.01541934  0.01452626  0.01443549  0.01407339]\n",
    "> ['70', '3', '45', '62', '55']\n",
    "```\n",
    "\n",
    "First you'll need to handle processing the input image such that it can be used in your network. \n",
    "\n",
    "## Image Preprocessing\n",
    "\n",
    "You'll want to use `PIL` to load the image ([documentation](https://pillow.readthedocs.io/en/latest/reference/Image.html)). It's best to write a function that preprocesses the image so it can be used as input for the model. This function should process the images in the same manner used for training. \n",
    "\n",
    "First, resize the images where the shortest side is 256 pixels, keeping the aspect ratio. This can be done with the [`thumbnail`](http://pillow.readthedocs.io/en/3.1.x/reference/Image.html#PIL.Image.Image.thumbnail) or [`resize`](http://pillow.readthedocs.io/en/3.1.x/reference/Image.html#PIL.Image.Image.thumbnail) methods. Then you'll need to crop out the center 224x224 portion of the image.\n",
    "\n",
    "Color channels of images are typically encoded as integers 0-255, but the model expected floats 0-1. You'll need to convert the values. It's easiest with a Numpy array, which you can get from a PIL image like so `np_image = np.array(pil_image)`.\n",
    "\n",
    "As before, the network expects the images to be normalized in a specific way. For the means, it's `[0.485, 0.456, 0.406]` and for the standard deviations `[0.229, 0.224, 0.225]`. You'll want to subtract the means from each color channel, then divide by the standard deviation. \n",
    "\n",
    "And finally, PyTorch expects the color channel to be the first dimension but it's the third dimension in the PIL image and Numpy array. You can reorder dimensions using [`ndarray.transpose`](https://docs.scipy.org/doc/numpy-1.13.0/reference/generated/numpy.ndarray.transpose.html). The color channel needs to be first and retain the order of the other two dimensions."
   ]
  },
  {
   "cell_type": "code",
   "execution_count": 33,
   "metadata": {
    "collapsed": true
   },
   "outputs": [],
   "source": [
    "from PIL import Image"
   ]
  },
  {
   "cell_type": "code",
   "execution_count": 34,
   "metadata": {
    "collapsed": true
   },
   "outputs": [],
   "source": [
    "def process_image(image):\n",
    "    ''' Scales, crops, and normalizes a PIL image for a PyTorch model,\n",
    "        returns an Numpy array\n",
    "    '''\n",
    "    \n",
    "    # Resize and crop out the center 224x224 square\n",
    "    aspect = image.size[0]/image.size[1]\n",
    "    if aspect > 0:\n",
    "        image.thumbnail((10000, 256))\n",
    "    else:\n",
    "        image.thumbnail((256, 10000))\n",
    "    left_margin = (image.width-224)/2\n",
    "    top_margin = (image.height-224)/2\n",
    "    image = image.crop((left_margin, top_margin, left_margin+224, top_margin+224))\n",
    "    \n",
    "    # normalizing\n",
    "    image = np.array(image)/255\n",
    "    mean = np.array([0.485, 0.456, 0.406])\n",
    "    std = np.array([0.229, 0.224, 0.225])\n",
    "    image = (image - mean)/std\n",
    "    \n",
    "    # Color channels in first dimension as per expectation\n",
    "    image = image.transpose((2, 0, 1))\n",
    "    \n",
    "    return image"
   ]
  },
  {
   "cell_type": "code",
   "execution_count": 37,
   "metadata": {
    "collapsed": true
   },
   "outputs": [],
   "source": [
    "image_path = 'test/28/image_05230.jpg'\n",
    "image = Image.open(image_path)\n",
    "image = process_image(image)"
   ]
  },
  {
   "cell_type": "markdown",
   "metadata": {},
   "source": [
    "## Class Prediction\n",
    "\n",
    "Once you can get images in the correct format \n",
    "\n",
    "To get the top $K$ largest values in a tensor use [`x.topk(k)`](http://pytorch.org/docs/master/torch.html#torch.topk). This method returns both the highest `k` probabilities and the indices of those probabilities corresponding to the classes. You need to convert from these indices to the actual class labels using `class_to_idx` which hopefully you added to the model or from an `ImageFolder` you used to load the data ([see here](#Save-the-checkpoint)). Make sure to invert the dictio\n",
    "\n",
    "Again, this method should take a path to an image and a model checkpoint, then return the probabilities and classes.\n",
    "\n",
    "```python\n",
    "probs, classes = predict(image_path, model)\n",
    "print(probs)\n",
    "print(classes)\n",
    "> [ 0.01558163  0.01541934  0.01452626  0.01443549  0.01407339]\n",
    "> ['70', '3', '45', '62', '55']\n",
    "```"
   ]
  },
  {
   "cell_type": "code",
   "execution_count": 38,
   "metadata": {
    "collapsed": true
   },
   "outputs": [],
   "source": [
    "def predict(image_path, model, topk=5):\n",
    "    ''' Predict the class (or classes) of an image using a trained deep learning model.\n",
    "    '''\n",
    "    \n",
    "    # TODO: Implement the code to predict the class from an image file\n",
    "    image_in = Image.open(image_path)\n",
    "    image_in = process_image(image_in)\n",
    "    \n",
    "    image_tensor = torch.from_numpy(image_in).type(torch.FloatTensor)\n",
    "    inputs = Variable(image_tensor, requires_grad=False)\n",
    "    inputs = inputs.unsqueeze(0)\n",
    "    \n",
    "    ps = torch.exp(model.forward(inputs))\n",
    "    \n",
    "    top_probs, top_labels = ps.topk(topk)\n",
    "    top_probs, top_labels = top_probs.data.numpy().squeeze(), top_labels.data.numpy().squeeze()\n",
    "    \n",
    "    idx_to_class = {val: key for key, val in model.class_to_idx.items()}\n",
    "    top_classes = [idx_to_class[each] for each in top_labels]\n",
    "    \n",
    "    return top_probs, top_classes"
   ]
  },
  {
   "cell_type": "code",
   "execution_count": 39,
   "metadata": {},
   "outputs": [
    {
     "data": {
      "text/plain": [
       "(array([ 0.0571664 ,  0.054674  ,  0.05163857,  0.04158187,  0.04084549], dtype=float32),\n",
       " ['9', '28', '3', '94', '82'])"
      ]
     },
     "execution_count": 39,
     "metadata": {},
     "output_type": "execute_result"
    }
   ],
   "source": [
    "image_path = 'test/28/image_05230.jpg'\n",
    "model.eval()\n",
    "model.cpu()\n",
    "predict(image_path, model)"
   ]
  },
  {
   "cell_type": "markdown",
   "metadata": {},
   "source": [
    "## Sanity Checking\n",
    "\n",
    "Now that you can use a trained model for predictions, check to make sure it makes sense. Even if the testing accuracy is high, it's always good to check that there aren't obvious bugs. Use `matplotlib` to plot the probabilities for the top 5 classes as a bar graph, along with the input image. It should look like this:\n",
    "\n",
    "<img src='assets/inference_example.png' width=300px>\n",
    "\n",
    "You can convert from the class integer encoding to actual flower names with the `label_map.json` file (should have been loaded earlier in the notebook). To show a PyTorch tensor as an image, use the `imshow` function defined below."
   ]
  },
  {
   "cell_type": "code",
   "execution_count": 40,
   "metadata": {
    "collapsed": true
   },
   "outputs": [],
   "source": [
    "def imshow(image, ax=None, title=None):\n",
    "    \"\"\"Imshow for Tensor.\"\"\"\n",
    "    if ax is None:\n",
    "        fig, ax = plt.subplots()\n",
    "    \n",
    "    # PyTorch tensors assume the color channel is the first dimension\n",
    "    # but matplotlib assumes is the third dimension\n",
    "    image = image.numpy().transpose((1, 2, 0))\n",
    "    \n",
    "    # Undo preprocessing\n",
    "    mean = np.array([0.485, 0.456, 0.406])\n",
    "    std = np.array([0.229, 0.224, 0.225])\n",
    "    image = std * image + mean\n",
    "    \n",
    "    # Image needs to be clipped between 0 and 1 or it looks like noise when displayed\n",
    "    image = np.clip(image, 0, 1)\n",
    "    \n",
    "    ax.imshow(image)\n",
    "    \n",
    "    return ax"
   ]
  },
  {
   "cell_type": "code",
   "execution_count": null,
   "metadata": {
    "collapsed": true
   },
   "outputs": [],
   "source": [
    "# TODO: Display an image along with the top 5 classes"
   ]
  },
  {
   "cell_type": "code",
   "execution_count": 42,
   "metadata": {
    "collapsed": true
   },
   "outputs": [],
   "source": [
    "images, labels = next(iter(dataloaders['test']))"
   ]
  },
  {
   "cell_type": "code",
   "execution_count": 45,
   "metadata": {},
   "outputs": [
    {
     "data": {
      "image/png": "[encoded data removed]",
      "text/plain": [
       "<matplotlib.figure.Figure at 0x7f6b1b993f28>"
      ]
     },
     "metadata": {
      "image/png": {
       "height": 494,
       "width": 300
      }
     },
     "output_type": "display_data"
    }
   ],
   "source": [
    "img_idx = 25\n",
    "\n",
    "inputs = Variable(images[img_idx,:].unsqueeze(0))\n",
    "model.eval()\n",
    "model.cpu()\n",
    "ps = torch.exp(model.forward(inputs))\n",
    "\n",
    "top_probs, top_classes = ps.topk(5)\n",
    "idx_to_class = {val: key for key, val in model.class_to_idx.items()}\n",
    "top_classes = [idx_to_class[each] for each in top_classes.data.squeeze()]\n",
    "\n",
    "fig, (img_ax, p_ax) = plt.subplots(figsize=(4,7), nrows=2)\n",
    "img_ax = imshow(inputs.data.squeeze(), ax=img_ax)\n",
    "img_ax.set_title(label_map[idx_to_class[labels[img_idx]]])\n",
    "img_ax.xaxis.set_visible(False)\n",
    "img_ax.yaxis.set_visible(False)\n",
    "\n",
    "p_ax.barh(np.arange(5, 0, -1), top_probs.data.numpy().squeeze())\n",
    "top_cat_names = [label_map[each] for each in top_classes]\n",
    "p_ax.set_yticks(range(1,6))\n",
    "p_ax.set_yticklabels(reversed(top_cat_names));\n",
    "fig.tight_layout(pad=0.1, h_pad=0)"
   ]
  }
 ],
 "metadata": {
  "kernelspec": {
   "display_name": "Python 3",
   "language": "python",
   "name": "python3"
  },
  "language_info": {
   "codemirror_mode": {
    "name": "ipython",
    "version": 3
   },
   "file_extension": ".py",
   "mimetype": "text/x-python",
   "name": "python",
   "nbconvert_exporter": "python",
   "pygments_lexer": "ipython3",
   "version": "3.6.3"
  }
 },
 "nbformat": 4,
 "nbformat_minor": 2
}
